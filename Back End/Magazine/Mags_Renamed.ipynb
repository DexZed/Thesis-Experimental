{
 "cells": [
  {
   "cell_type": "code",
   "execution_count": 6,
   "metadata": {},
   "outputs": [
    {
     "name": "stdout",
     "output_type": "stream",
     "text": [
      "Evaluating RMSE, MAE of algorithm SVD on 5 split(s).\n",
      "\n",
      "                  Fold 1  Fold 2  Fold 3  Fold 4  Fold 5  Mean    Std     \n",
      "RMSE (testset)    1.4153  1.4185  1.4186  1.4021  1.4206  1.4150  0.0067  \n",
      "MAE (testset)     1.1522  1.1585  1.1599  1.1421  1.1562  1.1538  0.0064  \n",
      "Fit time          1.70    1.86    2.07    1.75    1.78    1.83    0.13    \n",
      "Test time         0.12    0.12    0.19    0.11    0.11    0.13    0.03    \n"
     ]
    },
    {
     "data": {
      "text/plain": [
       "{'test_rmse': array([1.41531314, 1.41849731, 1.41858163, 1.40212913, 1.42059093]),\n",
       " 'test_mae': array([1.15224301, 1.1585406 , 1.15994218, 1.14209325, 1.15622561]),\n",
       " 'fit_time': (1.6995465755462646,\n",
       "  1.8588895797729492,\n",
       "  2.074091911315918,\n",
       "  1.750744104385376,\n",
       "  1.782212495803833),\n",
       " 'test_time': (0.11803030967712402,\n",
       "  0.11594295501708984,\n",
       "  0.19258570671081543,\n",
       "  0.106781005859375,\n",
       "  0.10809516906738281)}"
      ]
     },
     "execution_count": 6,
     "metadata": {},
     "output_type": "execute_result"
    }
   ],
   "source": [
    "import os\n",
    "import pandas as pd\n",
    "from surprise import Dataset, Reader, SVD\n",
    "from surprise.model_selection import cross_validate\n",
    "\n",
    "# Path to your CSV file\n",
    "file_path = os.path.expanduser(\"./Magazine_Subscriptions.csv\")\n",
    "\n",
    "# Load the CSV file into a DataFrame\n",
    "df = pd.read_csv(file_path)\n",
    "\n",
    "# Ensure your DataFrame has columns \"userID\", \"itemID\", \"rating\"\n",
    "df.columns = [\"userID\", \"itemID\", \"rating\", \"timestamp\"]  # Map your columns appropriately\n",
    "df = df[[\"userID\", \"itemID\", \"rating\"]]  # Drop any unnecessary columns\n",
    "\n",
    "# Define the Reader and load the data\n",
    "reader = Reader(rating_scale=(1, 5))  # Adjust `rating_scale` if your ratings are outside this range\n",
    "data = Dataset.load_from_df(df, reader)\n",
    "\n",
    "# Train and cross-validate the SVD algorithm\n",
    "algo = SVD()\n",
    "cross_validate(algo, data, measures=[\"RMSE\", \"MAE\"], cv=5, verbose=True)\n"
   ]
  },
  {
   "cell_type": "code",
   "execution_count": 1,
   "metadata": {},
   "outputs": [
    {
     "name": "stdout",
     "output_type": "stream",
     "text": [
      "Evaluating RMSE, MAE of algorithm SVD on 5 split(s).\n",
      "\n",
      "                  Fold 1  Fold 2  Fold 3  Fold 4  Fold 5  Mean    Std     \n",
      "RMSE (testset)    1.4066  1.4120  1.4041  1.4168  1.4098  1.4099  0.0044  \n",
      "MAE (testset)     1.1442  1.1521  1.1437  1.1515  1.1452  1.1473  0.0037  \n",
      "Fit time          2.72    3.88    2.52    3.26    3.31    3.14    0.48    \n",
      "Test time         0.40    0.22    0.40    0.30    0.20    0.31    0.09    \n"
     ]
    },
    {
     "data": {
      "text/plain": [
       "{'test_rmse': array([1.40663772, 1.41199773, 1.40411   , 1.41677049, 1.40984638]),\n",
       " 'test_mae': array([1.1441722 , 1.15208238, 1.14370796, 1.15153476, 1.14515715]),\n",
       " 'fit_time': (2.7166433334350586,\n",
       "  3.8829565048217773,\n",
       "  2.5226891040802,\n",
       "  3.2641406059265137,\n",
       "  3.3082997798919678),\n",
       " 'test_time': (0.4030582904815674,\n",
       "  0.21792101860046387,\n",
       "  0.39958930015563965,\n",
       "  0.30336904525756836,\n",
       "  0.2028064727783203)}"
      ]
     },
     "execution_count": 1,
     "metadata": {},
     "output_type": "execute_result"
    }
   ],
   "source": [
    "import os\n",
    "import pandas as pd\n",
    "from surprise import Dataset, Reader, SVD\n",
    "from surprise.model_selection import cross_validate\n",
    "\n",
    "# Path to your JSONL file\n",
    "file_path = os.path.expanduser(\"./Magazine_Subscriptions.jsonl\")\n",
    "\n",
    "# Load the JSONL file into a DataFrame\n",
    "df = pd.read_json(file_path, lines=True)\n",
    "\n",
    "# Extract only the relevant columns for Surprise\n",
    "df = df[[\"user_id\", \"parent_asin\", \"rating\"]]\n",
    "\n",
    "# Rename columns to match Surprise's expected schema\n",
    "df.columns = [\"userID\", \"itemID\", \"rating\"]\n",
    "\n",
    "# Define the Reader and load the data\n",
    "reader = Reader(rating_scale=(1, 5))  # Adjust rating_scale if necessary\n",
    "data = Dataset.load_from_df(df, reader)\n",
    "\n",
    "# Train and cross-validate the SVD algorithm\n",
    "algo = SVD()\n",
    "cross_validate(algo, data, measures=[\"RMSE\", \"MAE\"], cv=5, verbose=True)\n"
   ]
  },
  {
   "cell_type": "code",
   "execution_count": 2,
   "metadata": {},
   "outputs": [
    {
     "name": "stdout",
     "output_type": "stream",
     "text": [
      "RMSE: 1.4132\n",
      "-----------------------------------------\n",
      "MSE: 1.9972\n",
      "RMSE: 1.4138\n",
      "-----------------------------------------\n",
      "MSE: 1.9988\n",
      "RMSE: 1.4111\n",
      "-----------------------------------------\n",
      "MSE: 1.9911\n"
     ]
    }
   ],
   "source": [
    "from surprise import accuracy\n",
    "from surprise.model_selection import KFold\n",
    "kf = KFold(n_splits=3)\n",
    "\n",
    "\n",
    "\n",
    "for trainset, testset in kf.split(data):\n",
    "\n",
    "    # train and test algorithm.\n",
    "    algo.fit(trainset)\n",
    "    predictions = algo.test(testset)\n",
    "\n",
    "    # Compute and print Root Mean Squared Error\n",
    "    accuracy.rmse(predictions, verbose=True)\n",
    "    print(\"-----------------------------------------\")\n",
    "    accuracy.mse(predictions, verbose=True)"
   ]
  },
  {
   "cell_type": "code",
   "execution_count": 3,
   "metadata": {},
   "outputs": [
    {
     "name": "stdout",
     "output_type": "stream",
     "text": [
      "1.4067455138438907\n",
      "{'n_epochs': 20, 'lr_all': 0.009, 'reg_all': 0.4}\n"
     ]
    }
   ],
   "source": [
    "from surprise.model_selection import GridSearchCV\n",
    "param_grid = {\"n_epochs\": [5, 10,15,20], \"lr_all\": [0.002, 0.005,0.007,0.009], \"reg_all\": [0.4, 0.6,0.8,1]}\n",
    "gs = GridSearchCV(SVD, param_grid, measures=[\"rmse\", \"mae\"], cv=3)\n",
    "\n",
    "gs.fit(data)\n",
    "\n",
    "# best RMSE score\n",
    "print(gs.best_score[\"rmse\"])\n",
    "\n",
    "# combination of parameters that gave the best RMSE score\n",
    "print(gs.best_params[\"rmse\"])"
   ]
  },
  {
   "cell_type": "code",
   "execution_count": 5,
   "metadata": {},
   "outputs": [
    {
     "name": "stdout",
     "output_type": "stream",
     "text": [
      "1.4000578515319388\n",
      "{'n_epochs': 40, 'lr_all': 0.09, 'reg_all': 0.3}\n"
     ]
    }
   ],
   "source": [
    "param_grid = {\"n_epochs\": [40,50], \"lr_all\": [0.09,0.1], \"reg_all\": [0.3,0.4]}\n",
    "gs = GridSearchCV(SVD, param_grid, measures=[\"rmse\", \"mae\"], cv=3)\n",
    "\n",
    "gs.fit(data)\n",
    "\n",
    "# best RMSE score\n",
    "print(gs.best_score[\"rmse\"])\n",
    "\n",
    "# combination of parameters that gave the best RMSE score\n",
    "print(gs.best_params[\"rmse\"])"
   ]
  },
  {
   "cell_type": "code",
   "execution_count": null,
   "metadata": {},
   "outputs": [
    {
     "name": "stdout",
     "output_type": "stream",
     "text": [
      "1.3890014833157642\n",
      "{'n_epochs': 60, 'lr_all': 0.08, 'reg_all': 0.03}\n"
     ]
    }
   ],
   "source": [
    "best_permutation=[]\n",
    "epochs=[60,65,67]\n",
    "lr=[0.08,0.09,0.1]\n",
    "reg=[0.03,0.03,0.03]\n",
    "\n",
    "param_grid = {\"n_epochs\": epochs, \"lr_all\": lr, \"reg_all\": reg}\n",
    "gs = GridSearchCV(SVD, param_grid, measures=[\"rmse\", \"mae\"], cv=5)\n",
    "\n",
    "gs.fit(data)\n",
    "\n",
    "# best RMSE score\n",
    "print(gs.best_score[\"rmse\"])\n",
    "\n",
    "# combination of parameters that gave the best RMSE score\n",
    "print(gs.best_params[\"rmse\"])"
   ]
  },
  {
   "cell_type": "code",
   "execution_count": 8,
   "metadata": {},
   "outputs": [
    {
     "name": "stdout",
     "output_type": "stream",
     "text": [
      "[(60, 0.09, 0.3, 1.396124345141083), (60, 0.09, 0.3, 1.3950750853974097), (60, 0.09, 0.3, 1.395061873212433), (60, 0.095, 0.3, 1.3958940810824214), (60, 0.095, 0.3, 1.3963629859177609), (60, 0.095, 0.3, 1.3963750650320896), (60, 0.097, 0.3, 1.393574950283839), (60, 0.097, 0.3, 1.3946794643190792), (60, 0.097, 0.3, 1.3944628692872476), (60, 0.099, 0.3, 1.3968445210801477), (60, 0.099, 0.3, 1.3941968978441812), (60, 0.099, 0.3, 1.3958874124153964), (62, 0.09, 0.3, 1.3971066744605072), (62, 0.09, 0.3, 1.3955413514716402), (62, 0.09, 0.3, 1.3956865861069716), (62, 0.095, 0.3, 1.395057729921922), (62, 0.095, 0.3, 1.3962923059755674), (62, 0.095, 0.3, 1.3957095810566438), (62, 0.097, 0.3, 1.3934793069412605), (62, 0.097, 0.3, 1.3952679947975497), (62, 0.097, 0.3, 1.395081779244439), (62, 0.099, 0.3, 1.395395395023343), (62, 0.099, 0.3, 1.3959765361209073), (62, 0.099, 0.3, 1.3960949810297665), (64, 0.09, 0.3, 1.3934147464198094), (64, 0.09, 0.3, 1.3947320623472355), (64, 0.09, 0.3, 1.3944838470760488), (64, 0.095, 0.3, 1.3972021020257555), (64, 0.095, 0.3, 1.394109126082131), (64, 0.095, 0.3, 1.394119000778153), (64, 0.097, 0.3, 1.3952639616988276), (64, 0.097, 0.3, 1.3948424009105374), (64, 0.097, 0.3, 1.39608677029389), (64, 0.099, 0.3, 1.394916339928272), (64, 0.099, 0.3, 1.3950340159410133), (64, 0.099, 0.3, 1.3962154029858511), (66, 0.09, 0.3, 1.3948582162570138), (66, 0.09, 0.3, 1.395151926715455), (66, 0.09, 0.3, 1.3936141720099662), (66, 0.095, 0.3, 1.3938078437714778), (66, 0.095, 0.3, 1.394835375179883), (66, 0.095, 0.3, 1.3951488451690197), (66, 0.097, 0.3, 1.3953934140097142), (66, 0.097, 0.3, 1.3974928784022784), (66, 0.097, 0.3, 1.3952484320155185), (66, 0.099, 0.3, 1.3964485336101635), (66, 0.099, 0.3, 1.3958167932488106), (66, 0.099, 0.3, 1.394681269813704)]\n",
      "----------------------\n",
      "----------------------\n",
      "Best RMSE score: 1.3934147464198094\n",
      "----------------------\n",
      "Best parameters: n_epochs=64, lr_all=0.09, reg_all=0.3\n"
     ]
    }
   ],
   "source": [
    "from surprise.model_selection import cross_validate\n",
    "import itertools\n",
    "\n",
    "best_permutation = []\n",
    "\n",
    "# Parameter grid\n",
    "epochs = [60,62,64,66]\n",
    "lr = [0.09,0.095,0.097,0.099]\n",
    "reg = [0.3,0.3,0.3]\n",
    "\n",
    "param_grid = list(itertools.product(epochs, lr, reg))  # Generate all combinations\n",
    "\n",
    "# Manually evaluate two combinations at a time\n",
    "for i in range(0, len(param_grid), 2):  # Iterate through the grid in steps of 2\n",
    "    # Get a batch of 2 parameter combinations\n",
    "    batch = param_grid[i : i + 2]\n",
    "    \n",
    "    for n_epochs, lr_all, reg_all in batch:\n",
    "        algo = SVD(n_epochs=n_epochs, lr_all=lr_all, reg_all=reg_all)\n",
    "        \n",
    "        # Evaluate the algorithm\n",
    "        results = cross_validate(algo, data, measures=[\"rmse\"], cv=5, verbose=False)\n",
    "        \n",
    "        # Average RMSE over folds\n",
    "        mean_rmse = results[\"test_rmse\"].mean()\n",
    "        \n",
    "        # Append the results to best_permutation\n",
    "        best_permutation.append((n_epochs, lr_all, reg_all, mean_rmse))\n",
    "\n",
    "# Find the best combination\n",
    "print(best_permutation)\n",
    "print('----------------------')\n",
    "best_combination = min(best_permutation, key=lambda x: x[3])  # Select by lowest RMSE\n",
    "print('----------------------')\n",
    "print(\"Best RMSE score:\", best_combination[3])\n",
    "print('----------------------')\n",
    "print(\"Best parameters: n_epochs={}, lr_all={}, reg_all={}\".format(\n",
    "    best_combination[0], best_combination[1], best_combination[2]\n",
    "))\n"
   ]
  }
 ],
 "metadata": {
  "kernelspec": {
   "display_name": "RecSys",
   "language": "python",
   "name": "python3"
  },
  "language_info": {
   "codemirror_mode": {
    "name": "ipython",
    "version": 3
   },
   "file_extension": ".py",
   "mimetype": "text/x-python",
   "name": "python",
   "nbconvert_exporter": "python",
   "pygments_lexer": "ipython3",
   "version": "3.12.8"
  }
 },
 "nbformat": 4,
 "nbformat_minor": 2
}
