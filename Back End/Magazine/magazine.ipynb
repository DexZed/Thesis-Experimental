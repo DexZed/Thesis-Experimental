{
 "cells": [
  {
   "cell_type": "markdown",
   "metadata": {},
   "source": [
    "See the data set\n"
   ]
  },
  {
   "cell_type": "code",
   "execution_count": 3,
   "metadata": {},
   "outputs": [
    {
     "name": "stdout",
     "output_type": "stream",
     "text": [
      "{\n",
      "  \"rating\": 5.0,\n",
      "  \"title\": \"Great pictures and recipes\",\n",
      "  \"text\": \"Wonderful recipes in this magazine.\",\n",
      "  \"images\": [],\n",
      "  \"asin\": \"B00HLSSQKK\",\n",
      "  \"parent_asin\": \"B00HLSSQKK\",\n",
      "  \"user_id\": \"AE7Y5RLYIKHOZB5NKKOEKYG2SPSQ\",\n",
      "  \"timestamp\": 1608046142433,\n",
      "  \"helpful_vote\": 0,\n",
      "  \"verified_purchase\": true\n",
      "}\n"
     ]
    }
   ],
   "source": [
    "import json\n",
    "pprint = lambda x: print(json.dumps(x, indent=2)) if isinstance(x, dict) else display(x)\n",
    "file =\"Magazine_Subscriptions.jsonl\" # e.g., \"All_Beauty.jsonl\", downloaded from the `review` link above\n",
    "with open(file, 'r') as fp:\n",
    "    for line in fp:\n",
    "        pprint(json.loads(line.strip()))\n",
    "        break"
   ]
  },
  {
   "cell_type": "markdown",
   "metadata": {},
   "source": [
    "See the meta data"
   ]
  },
  {
   "cell_type": "code",
   "execution_count": 4,
   "metadata": {},
   "outputs": [
    {
     "name": "stdout",
     "output_type": "stream",
     "text": [
      "{\n",
      "  \"main_category\": \"Magazine Subscriptions\",\n",
      "  \"title\": \"GQ Print Access    Print Magazine\",\n",
      "  \"average_rating\": 3.6,\n",
      "  \"rating_number\": 10,\n",
      "  \"features\": [],\n",
      "  \"description\": [\n",
      "    \"Product Description\",\n",
      "    \"Dive into\",\n",
      "    \"GQ\",\n",
      "    \"\\u2019s culture-defining covers with Timoth\\u00e9e Chalamet, Travis Scott, Zendaya, Daniel Craig, LeBron James, and more. From dynamic storytelling to elevated style\\u2014if it\\u2019s at the center of the zeitgeist, it\\u2019s in the magazine. Subscribe now and never miss bleeding-edge fashion from all over the world, captivating photography from innovative artists, and unforgettable profiles and longform journalism.\",\n",
      "    \"Amazon.com Review\",\n",
      "    \"GQ\",\n",
      "    \"is the flagship of men's fashion and style. To be\",\n",
      "    \"GQ\",\n",
      "    \"is to be forward-looking, progressive and cutting-edge.\",\n",
      "    \"GQ\",\n",
      "    \"is home to some of the most elevated and respected in photography, design, reporting and writing in the men\\u2019s space.\",\n",
      "    \"GQ\",\n",
      "    \"fosters a community where readers gather to be inspired and exchange ideas around style, creativity and culture.  As masculinity evolves and men's fashion has moved to the center of the global pop-culture conversation,\",\n",
      "    \"GQ\",\n",
      "    \"'s authority has never been broader or stronger.  Subscribe to\",\n",
      "    \"GQ\",\n",
      "    \"and become a part of this forward-looking, progressive and cutting-edge community; you\\u2019re not going to want to miss out.\"\n",
      "  ],\n",
      "  \"price\": null,\n",
      "  \"images\": [\n",
      "    {\n",
      "      \"thumb\": \"https://m.media-amazon.com/images/I/51zK4tOa80L._AC_SR38,50_.jpg\",\n",
      "      \"large\": \"https://m.media-amazon.com/images/I/51zK4tOa80L._AC_.jpg\",\n",
      "      \"variant\": \"MAIN\",\n",
      "      \"hi_res\": \"https://m.media-amazon.com/images/I/91evhTdGmjL._AC_SL1500_.jpg\"\n",
      "    },\n",
      "    {\n",
      "      \"thumb\": \"https://m.media-amazon.com/images/I/51zK4tOa80L._AC_SR38,50_.jpg\",\n",
      "      \"large\": \"https://m.media-amazon.com/images/I/51zK4tOa80L._AC_.jpg\",\n",
      "      \"variant\": \"PT01\",\n",
      "      \"hi_res\": \"https://m.media-amazon.com/images/I/91evhTdGmjL._AC_SL1500_.jpg\"\n",
      "    }\n",
      "  ],\n",
      "  \"videos\": [],\n",
      "  \"store\": \"Conde Nast Publications\",\n",
      "  \"categories\": [],\n",
      "  \"details\": {\n",
      "    \"Date First Available\": \"June 2, 2020\",\n",
      "    \"Manufacturer\": \"Conde Nast Publications\"\n",
      "  },\n",
      "  \"parent_asin\": \"B00FA7T630\",\n",
      "  \"bought_together\": null\n",
      "}\n"
     ]
    }
   ],
   "source": [
    "import json\n",
    "file =\"meta_Magazine_Subscriptions.jsonl\" # e.g., \"meta_All_Beauty.jsonl\", downloaded from the `meta` link above\n",
    "with open(file, 'r') as fp:\n",
    "    for line in fp:\n",
    "        pprint(json.loads(line.strip()))\n",
    "        break"
   ]
  },
  {
   "cell_type": "markdown",
   "metadata": {},
   "source": [
    "Load the data"
   ]
  },
  {
   "cell_type": "code",
   "execution_count": 5,
   "metadata": {},
   "outputs": [],
   "source": [
    "import pandas as pd\n",
    "\n",
    "# Load JSONL file into a DataFrame\n",
    "subscriptions = pd.read_json('Magazine_Subscriptions.jsonl', lines=True)\n",
    "\n",
    "# For metadata\n",
    "metadata = pd.read_json('meta_Magazine_Subscriptions.jsonl', lines=True)\n"
   ]
  },
  {
   "cell_type": "markdown",
   "metadata": {},
   "source": [
    "# Merge the data by parent_asin ID "
   ]
  },
  {
   "cell_type": "code",
   "execution_count": 6,
   "metadata": {},
   "outputs": [],
   "source": [
    "# Merge subscriptions with metadata on `parent_asin`\n",
    "combined_data = pd.merge(subscriptions, metadata, on='parent_asin', how='left')\n"
   ]
  },
  {
   "cell_type": "markdown",
   "metadata": {},
   "source": [
    "#  Preprocess the Data"
   ]
  },
  {
   "cell_type": "code",
   "execution_count": 7,
   "metadata": {},
   "outputs": [],
   "source": [
    "# Clean text fields\n",
    "combined_data['text_clean'] = combined_data['text'].str.lower().str.replace(r'[^a-zA-Z\\s]', '', regex=True)\n",
    "\n",
    "# Normalize numerical fields\n",
    "from sklearn.preprocessing import MinMaxScaler\n",
    "\n",
    "scaler = MinMaxScaler()\n",
    "combined_data['rating_scaled'] = scaler.fit_transform(combined_data[['rating']])\n"
   ]
  },
  {
   "cell_type": "markdown",
   "metadata": {},
   "source": [
    "Save preprocessed data"
   ]
  },
  {
   "cell_type": "code",
   "execution_count": 8,
   "metadata": {},
   "outputs": [],
   "source": [
    "combined_data.to_json('preprocessed_data.jsonl', orient='records', lines=True)\n"
   ]
  },
  {
   "cell_type": "markdown",
   "metadata": {},
   "source": [
    "See user rankings and popularity rankings"
   ]
  },
  {
   "cell_type": "code",
   "execution_count": null,
   "metadata": {},
   "outputs": [
    {
     "name": "stdout",
     "output_type": "stream",
     "text": [
      "4.384615384615385\n"
     ]
    },
    {
     "ename": "AttributeError",
     "evalue": "module 'functions' has no attribute 'get_product_rankings'",
     "output_type": "error",
     "traceback": [
      "\u001b[1;31m---------------------------------------------------------------------------\u001b[0m",
      "\u001b[1;31mAttributeError\u001b[0m                            Traceback (most recent call last)",
      "Cell \u001b[1;32mIn[10], line 9\u001b[0m\n\u001b[0;32m      6\u001b[0m user_rating \u001b[38;5;241m=\u001b[39m functions\u001b[38;5;241m.\u001b[39mget_user_rating(preprocessed_data,\u001b[38;5;124m\"\u001b[39m\u001b[38;5;124mB00HLSSQKK\u001b[39m\u001b[38;5;124m\"\u001b[39m)\n\u001b[0;32m      7\u001b[0m \u001b[38;5;28mprint\u001b[39m (user_rating)\n\u001b[1;32m----> 9\u001b[0m product_rankings \u001b[38;5;241m=\u001b[39m \u001b[43mfunctions\u001b[49m\u001b[38;5;241;43m.\u001b[39;49m\u001b[43mget_product_rankings\u001b[49m(preprocessed_data,\u001b[38;5;124m\"\u001b[39m\u001b[38;5;124mB00HLSSQKK\u001b[39m\u001b[38;5;124m\"\u001b[39m)\n\u001b[0;32m     10\u001b[0m \u001b[38;5;28mprint\u001b[39m (product_rankings)\n",
      "\u001b[1;31mAttributeError\u001b[0m: module 'functions' has no attribute 'get_product_rankings'"
     ]
    }
   ],
   "source": [
    "import functions\n",
    "\n",
    "preprocessed_data = pd.read_json(\"preprocessed_data.jsonl\",lines=True)\n",
    "\n",
    "# Calculate user rankings\n",
    "user_rating = functions.get_user_rating(preprocessed_data,\"B00HLSSQKK\")\n",
    "print (user_rating)\n"
   ]
  },
  {
   "cell_type": "code",
   "execution_count": 11,
   "metadata": {},
   "outputs": [
    {
     "name": "stdout",
     "output_type": "stream",
     "text": [
      "425\n"
     ]
    }
   ],
   "source": [
    "product_rankings = functions.get_popularity_rank(preprocessed_data,\"B00HLSSQKK\")\n",
    "print (product_rankings)"
   ]
  }
 ],
 "metadata": {
  "kernelspec": {
   "display_name": "RecSys",
   "language": "python",
   "name": "python3"
  },
  "language_info": {
   "codemirror_mode": {
    "name": "ipython",
    "version": 3
   },
   "file_extension": ".py",
   "mimetype": "text/x-python",
   "name": "python",
   "nbconvert_exporter": "python",
   "pygments_lexer": "ipython3",
   "version": "3.12.8"
  }
 },
 "nbformat": 4,
 "nbformat_minor": 2
}
