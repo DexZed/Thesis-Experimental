{
 "cells": [
  {
   "cell_type": "markdown",
   "metadata": {},
   "source": [
    "See the data set\n"
   ]
  },
  {
   "cell_type": "code",
   "execution_count": 3,
   "metadata": {},
   "outputs": [
    {
     "name": "stdout",
     "output_type": "stream",
     "text": [
      "{\n",
      "  \"rating\": 5.0,\n",
      "  \"title\": \"Great pictures and recipes\",\n",
      "  \"text\": \"Wonderful recipes in this magazine.\",\n",
      "  \"images\": [],\n",
      "  \"asin\": \"B00HLSSQKK\",\n",
      "  \"parent_asin\": \"B00HLSSQKK\",\n",
      "  \"user_id\": \"AE7Y5RLYIKHOZB5NKKOEKYG2SPSQ\",\n",
      "  \"timestamp\": 1608046142433,\n",
      "  \"helpful_vote\": 0,\n",
      "  \"verified_purchase\": true\n",
      "}\n"
     ]
    }
   ],
   "source": [
    "import json\n",
    "pprint = lambda x: print(json.dumps(x, indent=2)) if isinstance(x, dict) else display(x)\n",
    "file =\"Magazine_Subscriptions.jsonl\" # e.g., \"All_Beauty.jsonl\", downloaded from the `review` link above\n",
    "with open(file, 'r') as fp:\n",
    "    for line in fp:\n",
    "        pprint(json.loads(line.strip()))\n",
    "        break"
   ]
  },
  {
   "cell_type": "markdown",
   "metadata": {},
   "source": [
    "See the meta data"
   ]
  },
  {
   "cell_type": "code",
   "execution_count": 4,
   "metadata": {},
   "outputs": [
    {
     "name": "stdout",
     "output_type": "stream",
     "text": [
      "{\n",
      "  \"main_category\": \"Magazine Subscriptions\",\n",
      "  \"title\": \"GQ Print Access    Print Magazine\",\n",
      "  \"average_rating\": 3.6,\n",
      "  \"rating_number\": 10,\n",
      "  \"features\": [],\n",
      "  \"description\": [\n",
      "    \"Product Description\",\n",
      "    \"Dive into\",\n",
      "    \"GQ\",\n",
      "    \"\\u2019s culture-defining covers with Timoth\\u00e9e Chalamet, Travis Scott, Zendaya, Daniel Craig, LeBron James, and more. From dynamic storytelling to elevated style\\u2014if it\\u2019s at the center of the zeitgeist, it\\u2019s in the magazine. Subscribe now and never miss bleeding-edge fashion from all over the world, captivating photography from innovative artists, and unforgettable profiles and longform journalism.\",\n",
      "    \"Amazon.com Review\",\n",
      "    \"GQ\",\n",
      "    \"is the flagship of men's fashion and style. To be\",\n",
      "    \"GQ\",\n",
      "    \"is to be forward-looking, progressive and cutting-edge.\",\n",
      "    \"GQ\",\n",
      "    \"is home to some of the most elevated and respected in photography, design, reporting and writing in the men\\u2019s space.\",\n",
      "    \"GQ\",\n",
      "    \"fosters a community where readers gather to be inspired and exchange ideas around style, creativity and culture.  As masculinity evolves and men's fashion has moved to the center of the global pop-culture conversation,\",\n",
      "    \"GQ\",\n",
      "    \"'s authority has never been broader or stronger.  Subscribe to\",\n",
      "    \"GQ\",\n",
      "    \"and become a part of this forward-looking, progressive and cutting-edge community; you\\u2019re not going to want to miss out.\"\n",
      "  ],\n",
      "  \"price\": null,\n",
      "  \"images\": [\n",
      "    {\n",
      "      \"thumb\": \"https://m.media-amazon.com/images/I/51zK4tOa80L._AC_SR38,50_.jpg\",\n",
      "      \"large\": \"https://m.media-amazon.com/images/I/51zK4tOa80L._AC_.jpg\",\n",
      "      \"variant\": \"MAIN\",\n",
      "      \"hi_res\": \"https://m.media-amazon.com/images/I/91evhTdGmjL._AC_SL1500_.jpg\"\n",
      "    },\n",
      "    {\n",
      "      \"thumb\": \"https://m.media-amazon.com/images/I/51zK4tOa80L._AC_SR38,50_.jpg\",\n",
      "      \"large\": \"https://m.media-amazon.com/images/I/51zK4tOa80L._AC_.jpg\",\n",
      "      \"variant\": \"PT01\",\n",
      "      \"hi_res\": \"https://m.media-amazon.com/images/I/91evhTdGmjL._AC_SL1500_.jpg\"\n",
      "    }\n",
      "  ],\n",
      "  \"videos\": [],\n",
      "  \"store\": \"Conde Nast Publications\",\n",
      "  \"categories\": [],\n",
      "  \"details\": {\n",
      "    \"Date First Available\": \"June 2, 2020\",\n",
      "    \"Manufacturer\": \"Conde Nast Publications\"\n",
      "  },\n",
      "  \"parent_asin\": \"B00FA7T630\",\n",
      "  \"bought_together\": null\n",
      "}\n"
     ]
    }
   ],
   "source": [
    "import json\n",
    "file =\"meta_Magazine_Subscriptions.jsonl\" # e.g., \"meta_All_Beauty.jsonl\", downloaded from the `meta` link above\n",
    "with open(file, 'r') as fp:\n",
    "    for line in fp:\n",
    "        pprint(json.loads(line.strip()))\n",
    "        break"
   ]
  },
  {
   "cell_type": "markdown",
   "metadata": {},
   "source": [
    "Load the data"
   ]
  },
  {
   "cell_type": "code",
   "execution_count": null,
   "metadata": {},
   "outputs": [],
   "source": [
    "import pandas as pd\n",
    "\n",
    "# Load JSONL file into a DataFrame\n",
    "subscriptions = pd.read_json('Magazine_Subscriptions.jsonl', lines=True)\n",
    "\n",
    "# For metadata\n",
    "metadata = pd.read_json('meta_Magazine_Subscriptions.jsonl', lines=True)\n"
   ]
  },
  {
   "cell_type": "markdown",
   "metadata": {},
   "source": [
    "# Merge the data by parent_asin ID "
   ]
  },
  {
   "cell_type": "code",
   "execution_count": null,
   "metadata": {},
   "outputs": [],
   "source": [
    "# Merge subscriptions with metadata on `parent_asin`\n",
    "combined_data = pd.merge(subscriptions, metadata, on='parent_asin', how='left')\n"
   ]
  },
  {
   "cell_type": "markdown",
   "metadata": {},
   "source": [
    "#  Preprocess the Data"
   ]
  },
  {
   "cell_type": "code",
   "execution_count": null,
   "metadata": {},
   "outputs": [],
   "source": [
    "# Clean text fields\n",
    "combined_data['text_clean'] = combined_data['text'].str.lower().str.replace(r'[^a-zA-Z\\s]', '', regex=True)\n",
    "\n",
    "# Normalize numerical fields\n",
    "from sklearn.preprocessing import MinMaxScaler\n",
    "\n",
    "scaler = MinMaxScaler()\n",
    "combined_data['rating_scaled'] = scaler.fit_transform(combined_data[['rating']])\n"
   ]
  }
 ],
 "metadata": {
  "kernelspec": {
   "display_name": "RecSys",
   "language": "python",
   "name": "python3"
  },
  "language_info": {
   "codemirror_mode": {
    "name": "ipython",
    "version": 3
   },
   "file_extension": ".py",
   "mimetype": "text/x-python",
   "name": "python",
   "nbconvert_exporter": "python",
   "pygments_lexer": "ipython3",
   "version": "3.12.8"
  }
 },
 "nbformat": 4,
 "nbformat_minor": 2
}
